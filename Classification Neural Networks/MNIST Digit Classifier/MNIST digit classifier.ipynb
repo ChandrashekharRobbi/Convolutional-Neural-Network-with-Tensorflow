{
 "cells": [
  {
   "cell_type": "markdown",
   "metadata": {},
   "source": [
    "# MNIST Digit Classifier\n",
    "\n",
    "Here we are going to use Tensorflow library to build the model and predict Digits"
   ]
  },
  {
   "cell_type": "code",
   "execution_count": null,
   "metadata": {
    "id": "E8sO76_ydf6A"
   },
   "outputs": [],
   "source": [
    "import numpy as np\n",
    "import matplotlib.pyplot as plt\n",
    "import pandas as pd\n",
    "import os\n",
    "import tensorflow as tf\n",
    "from tqdm import tqdm"
   ]
  },
  {
   "cell_type": "code",
   "execution_count": null,
   "metadata": {},
   "outputs": [],
   "source": [
    "\n",
    "from tqdm import tqdm"
   ]
  },
  {
   "cell_type": "code",
   "execution_count": null,
   "metadata": {},
   "outputs": [],
   "source": [
    "tf.config.list_physical_devices()"
   ]
  },
  {
   "cell_type": "code",
   "execution_count": null,
   "metadata": {
    "id": "wRixU3WIdwg_"
   },
   "outputs": [],
   "source": [
    "mnist = tf.keras.datasets.mnist"
   ]
  },
  {
   "cell_type": "code",
   "execution_count": null,
   "metadata": {
    "colab": {
     "base_uri": "https://localhost:8080/"
    },
    "id": "ec7PeUDtdzrB",
    "outputId": "f0224485-a761-465c-feb2-2354e8ba500c"
   },
   "outputs": [],
   "source": [
    "mnist"
   ]
  },
  {
   "cell_type": "code",
   "execution_count": null,
   "metadata": {
    "id": "rlaoEZAPd0PK"
   },
   "outputs": [],
   "source": [
    "(X_train_full, y_train_full), (X_test, y_test) = mnist.load_data()"
   ]
  },
  {
   "cell_type": "code",
   "execution_count": null,
   "metadata": {
    "colab": {
     "base_uri": "https://localhost:8080/"
    },
    "id": "nNS-UtFNd_Qi",
    "outputId": "3579d8a2-9489-4fd5-f981-3acaeb0dd194"
   },
   "outputs": [],
   "source": [
    "X_train_full[:10]"
   ]
  },
  {
   "cell_type": "code",
   "execution_count": null,
   "metadata": {
    "colab": {
     "base_uri": "https://localhost:8080/"
    },
    "id": "UCWI7RpUeBOI",
    "outputId": "6a0e19cc-0802-462b-e124-2989a7cd85eb"
   },
   "outputs": [],
   "source": [
    "X_train_full.shape"
   ]
  },
  {
   "cell_type": "code",
   "execution_count": null,
   "metadata": {
    "colab": {
     "base_uri": "https://localhost:8080/",
     "height": 248
    },
    "id": "tWdczIebeFso",
    "outputId": "4894ba71-b3c6-4177-d942-d708232df74e"
   },
   "outputs": [],
   "source": [
    "plt.imshow(X_train_full[10000])\n",
    "plt.axis(\"off\")\n",
    "plt.show()"
   ]
  },
  {
   "cell_type": "code",
   "execution_count": null,
   "metadata": {
    "colab": {
     "base_uri": "https://localhost:8080/",
     "height": 248
    },
    "id": "W_tY1AeAeJpg",
    "outputId": "9f498025-679a-4b4f-dff2-ab08111b4bc3"
   },
   "outputs": [],
   "source": [
    "plt.imshow(X_train_full[10000], cmap=\"binary\")\n",
    "plt.axis(\"off\")\n",
    "plt.show()"
   ]
  },
  {
   "cell_type": "code",
   "execution_count": null,
   "metadata": {
    "colab": {
     "base_uri": "https://localhost:8080/",
     "height": 1000
    },
    "id": "lbTvlpoxefTR",
    "outputId": "9c6fc786-dc0f-4c0b-9fe7-22a2a2536cbf"
   },
   "outputs": [],
   "source": [
    "index = 10000\n",
    "for _ in range(4):\n",
    "  plt.imshow(X_train_full[index], cmap=\"binary\")\n",
    "  plt.axis(\"off\")\n",
    "  plt.show()\n",
    "  index += 1\n",
    "  print(index)"
   ]
  },
  {
   "cell_type": "markdown",
   "metadata": {
    "colab": {
     "base_uri": "https://localhost:8080/",
     "height": 1000
    },
    "id": "Ok2IrjY8eyL-",
    "outputId": "9e9836e7-f401-4696-de4c-2587fdfd1d64"
   },
   "source": [
    "plt.figure(figsize=(20,20))\n",
    "sns.heatmap(X_train_full[10000], annot=True,cmap=\"binary\");"
   ]
  },
  {
   "cell_type": "code",
   "execution_count": null,
   "metadata": {
    "id": "uM0dmnAyfhR_"
   },
   "outputs": [],
   "source": [
    "X_valid , X_train = X_train_full[:5000]/255., X_train_full[5000:] / 255.\n",
    "y_valid , y_train = y_train_full[:5000], y_train_full[5000:]"
   ]
  },
  {
   "cell_type": "code",
   "execution_count": null,
   "metadata": {
    "id": "yIxmHTMpfhPa"
   },
   "outputs": [],
   "source": [
    "X_test = X_test / 255."
   ]
  },
  {
   "cell_type": "code",
   "execution_count": null,
   "metadata": {
    "colab": {
     "base_uri": "https://localhost:8080/"
    },
    "id": "LVqqA0EhfhMD",
    "outputId": "8fdb7dce-0907-4499-842e-bfd5e8801ee8"
   },
   "outputs": [],
   "source": [
    "print(X_valid.shape, X_train.shape)"
   ]
  },
  {
   "cell_type": "code",
   "execution_count": null,
   "metadata": {
    "colab": {
     "base_uri": "https://localhost:8080/"
    },
    "id": "D9MyAWo8fhIu",
    "outputId": "c1a451f3-82d5-4d3e-92db-cfcee7217238"
   },
   "outputs": [],
   "source": [
    "print(y_valid.shape, y_train.shape)"
   ]
  },
  {
   "cell_type": "markdown",
   "metadata": {
    "colab": {
     "base_uri": "https://localhost:8080/",
     "height": 867
    },
    "id": "NBJBNjPmfhFv",
    "outputId": "aed21ac8-f0eb-4313-9b8e-366e1c1475ae"
   },
   "source": [
    "plt.figure(figsize=(15,15))\n",
    "sns.heatmap(X_train[1000], annot=True, cmap=\"binary\");"
   ]
  },
  {
   "cell_type": "code",
   "execution_count": null,
   "metadata": {
    "id": "avm9cKhUfhCe"
   },
   "outputs": [],
   "source": [
    "LAYERS = [tf.keras.layers.Flatten(input_shape=[28,28], name=\"inputlayer\"),\n",
    "          tf.keras.layers.Dense(300, activation='relu', name=\"hiddenlayer1\"),\n",
    "          tf.keras.layers.Dense(100, activation='relu', name=\"hiddenlayer2\"),\n",
    "          tf.keras.layers.Dense(10, activation='softmax', name=\"outputlayer\")]"
   ]
  },
  {
   "cell_type": "code",
   "execution_count": null,
   "metadata": {
    "id": "sxZp2_byfg6W"
   },
   "outputs": [],
   "source": [
    "model_clf = tf.keras.models.Sequential(LAYERS)"
   ]
  },
  {
   "cell_type": "code",
   "execution_count": null,
   "metadata": {
    "colab": {
     "base_uri": "https://localhost:8080/"
    },
    "id": "UX4-2mLRfgZM",
    "outputId": "790b50e4-6ff4-41c1-c87e-0f43d06bf426"
   },
   "outputs": [],
   "source": [
    "model_clf.summary()"
   ]
  },
  {
   "cell_type": "code",
   "execution_count": null,
   "metadata": {
    "id": "6_m0aLq7igKK"
   },
   "outputs": [],
   "source": [
    "LOSS_FUNCTION = tf.keras.losses.SparseCategoricalCrossentropy() # HERE\n",
    "OPTIMIZER = tf.keras.optimizers.legacy.Adam()\n",
    "METRICS = [\"accuracy\"]\n",
    "model_clf.compile(loss=LOSS_FUNCTION,\n",
    "optimizer=OPTIMIZER,\n",
    "metrics=METRICS)"
   ]
  },
  {
   "cell_type": "code",
   "execution_count": null,
   "metadata": {
    "colab": {
     "base_uri": "https://localhost:8080/",
     "height": 36
    },
    "id": "h_ZIrsVXiuJu",
    "outputId": "7814cbb5-d4e8-4c6e-f2da-f54d6e0a3b60"
   },
   "outputs": [],
   "source": [
    "model_clf.layers[1].name"
   ]
  },
  {
   "cell_type": "code",
   "execution_count": null,
   "metadata": {
    "id": "SfB-dDaiixuI"
   },
   "outputs": [],
   "source": [
    "hidden1 = model_clf.layers[1]"
   ]
  },
  {
   "cell_type": "code",
   "execution_count": null,
   "metadata": {
    "id": "O0Erfbisi1pH"
   },
   "outputs": [],
   "source": [
    "weights,biases = hidden1.get_weights()"
   ]
  },
  {
   "cell_type": "code",
   "execution_count": null,
   "metadata": {
    "colab": {
     "base_uri": "https://localhost:8080/"
    },
    "id": "qJvZUmWVlBBr",
    "outputId": "f4b9dba5-76a2-445a-df03-f0c3945aedf8"
   },
   "outputs": [],
   "source": [
    "weights"
   ]
  },
  {
   "cell_type": "code",
   "execution_count": null,
   "metadata": {
    "colab": {
     "base_uri": "https://localhost:8080/"
    },
    "id": "hbQFTTYli-In",
    "outputId": "3b1e0586-79aa-4b33-9ea4-f64967c35da3"
   },
   "outputs": [],
   "source": [
    "EPOCHS = 100\n",
    "VALIDATION_SET = (X_valid, y_valid)\n",
    "history = model_clf.fit(X_train, y_train, epochs=EPOCHS, validation_data = VALIDATION_SET)"
   ]
  },
  {
   "cell_type": "code",
   "execution_count": null,
   "metadata": {
    "colab": {
     "base_uri": "https://localhost:8080/",
     "height": 206
    },
    "id": "sBzQGrmpj6TT",
    "outputId": "170766d6-c51c-4e7b-9571-c6bd04a376f0"
   },
   "outputs": [],
   "source": [
    "pd.DataFrame(history.history)"
   ]
  },
  {
   "cell_type": "code",
   "execution_count": null,
   "metadata": {
    "colab": {
     "base_uri": "https://localhost:8080/",
     "height": 324
    },
    "id": "IoMUvgsAjPG2",
    "outputId": "3a2bac83-b54a-45c2-a98c-68f6ef6d9b54"
   },
   "outputs": [],
   "source": [
    "pd.DataFrame(history.history).plot(figsize=(8,8))\n",
    "plt.grid(True)\n",
    "plt.show()"
   ]
  },
  {
   "cell_type": "code",
   "execution_count": null,
   "metadata": {},
   "outputs": [],
   "source": [
    "predicti = model_clf.predict(X_test[1].reshape(1, 28, 28))"
   ]
  },
  {
   "cell_type": "code",
   "execution_count": null,
   "metadata": {},
   "outputs": [],
   "source": [
    "{str(i): predicti[0][i] for i in range(10)}"
   ]
  },
  {
   "cell_type": "code",
   "execution_count": null,
   "metadata": {},
   "outputs": [],
   "source": [
    "plt.imshow(X_test[1])"
   ]
  },
  {
   "cell_type": "code",
   "execution_count": null,
   "metadata": {
    "colab": {
     "base_uri": "https://localhost:8080/"
    },
    "id": "lJ-OxB6NjkoX",
    "outputId": "d99eb242-0981-40c9-b9ba-45df1a2f8038"
   },
   "outputs": [],
   "source": [
    "model_clf.evaluate(X_test, y_test)"
   ]
  },
  {
   "cell_type": "code",
   "execution_count": null,
   "metadata": {
    "colab": {
     "base_uri": "https://localhost:8080/",
     "height": 710
    },
    "id": "tb7Rby4TnJCA",
    "outputId": "5d48ec59-be38-4619-cdd9-2535989f6468"
   },
   "outputs": [],
   "source": [
    "for i in range(0,3):\n",
    "    plt.imshow(X_test[i], cmap=\"binary\")\n",
    "    plt.axis(\"off\")\n",
    "    plt.show()"
   ]
  },
  {
   "cell_type": "code",
   "execution_count": null,
   "metadata": {},
   "outputs": [],
   "source": [
    "plt.imshow(X_test[0], cmap=\"binary\")"
   ]
  },
  {
   "cell_type": "code",
   "execution_count": null,
   "metadata": {},
   "outputs": [],
   "source": [
    "prediction = model_clf.predict(X_test)"
   ]
  },
  {
   "cell_type": "code",
   "execution_count": null,
   "metadata": {},
   "outputs": [],
   "source": [
    "y_prob = prediction[1]"
   ]
  },
  {
   "cell_type": "code",
   "execution_count": null,
   "metadata": {
    "colab": {
     "base_uri": "https://localhost:8080/"
    },
    "id": "MI9n0M0essE-",
    "outputId": "427842e6-ca61-483b-bce5-646d59e2ac17"
   },
   "outputs": [],
   "source": [
    "np.argmax(y_prob.round(5))"
   ]
  },
  {
   "cell_type": "code",
   "execution_count": null,
   "metadata": {
    "colab": {
     "base_uri": "https://localhost:8080/"
    },
    "id": "YEINMahIsx59",
    "outputId": "32e92eb2-5e1c-44d5-87a9-299645bfc0ac"
   },
   "outputs": [],
   "source": [
    "np.argmax(y_prob.round(5))"
   ]
  },
  {
   "cell_type": "code",
   "execution_count": null,
   "metadata": {
    "colab": {
     "base_uri": "https://localhost:8080/"
    },
    "id": "wbw6nJy3s6Rm",
    "outputId": "b57ee330-7bcd-4dea-945f-442aec12fd81",
    "scrolled": true
   },
   "outputs": [],
   "source": [
    "model_clf.predict(X_test)"
   ]
  },
  {
   "cell_type": "code",
   "execution_count": null,
   "metadata": {
    "colab": {
     "base_uri": "https://localhost:8080/"
    },
    "id": "a0Zq0ylmvsKF",
    "outputId": "1e868f6d-a9cc-4907-ecb2-bb88ab914178"
   },
   "outputs": [],
   "source": [
    "y_predicted_labels = [np.argmax(i) for i in prediction]\n",
    "y_predicted_labels[:5]"
   ]
  },
  {
   "cell_type": "code",
   "execution_count": null,
   "metadata": {
    "colab": {
     "base_uri": "https://localhost:8080/"
    },
    "id": "krD9jVS5vici",
    "outputId": "041c4593-e631-4e83-a7b7-3d4c37de11eb"
   },
   "outputs": [],
   "source": [
    "cm = tf.math.confusion_matrix(labels=y_test, predictions=y_predicted_labels)\n",
    "cm"
   ]
  },
  {
   "cell_type": "code",
   "execution_count": null,
   "metadata": {
    "colab": {
     "base_uri": "https://localhost:8080/",
     "height": 460
    },
    "id": "dIQHTre3vxYq",
    "outputId": "763bebc7-afd9-4466-ce21-eaf5b185f5e7"
   },
   "outputs": [],
   "source": [
    "import seaborn as sn\n",
    "plt.figure(figsize = (10,7))\n",
    "sn.heatmap(cm, annot=True, fmt='d')\n",
    "plt.xlabel('Predicted')\n",
    "plt.ylabel('Truth')"
   ]
  },
  {
   "cell_type": "code",
   "execution_count": null,
   "metadata": {
    "id": "pAmYyTRsv9jM"
   },
   "outputs": [],
   "source": [
    "print(len(y_test), len(y_predicted_labels))"
   ]
  },
  {
   "cell_type": "code",
   "execution_count": null,
   "metadata": {},
   "outputs": [],
   "source": [
    "y_test[0]"
   ]
  },
  {
   "cell_type": "code",
   "execution_count": null,
   "metadata": {},
   "outputs": [],
   "source": [
    "def show_100_images(X_test, y_predicted_labels):\n",
    "    \"\"\"\n",
    "    Display a plot of 100 images and their labels from a data batch\n",
    "    \"\"\"\n",
    "    # Setup the figure\n",
    "    plt.figure(figsize=(20,20))\n",
    "    \n",
    "    for i in tqdm(range(100)):\n",
    "        # Create a subplots ( 25 rows and 5 columns )\n",
    "        ncols = 5\n",
    "        nrows = 25\n",
    "        ax = plt.subplot(nrows , ncols , i+1)\n",
    "        plt.title(f\"Actual : {X_test[i]}   Predicted : {y_predicted_labels[i]}\")\n",
    "        plt.axis(\"off\")\n",
    "        plt.tight_layout()\n",
    "        plt.imshow(X_test[i], cmap=\"binary\")\n",
    "        "
   ]
  },
  {
   "cell_type": "code",
   "execution_count": null,
   "metadata": {
    "scrolled": true
   },
   "outputs": [],
   "source": [
    "show_100_images(X_test, y_predicted_labels)"
   ]
  },
  {
   "cell_type": "markdown",
   "metadata": {},
   "source": [
    "### saving checkpoints "
   ]
  },
  {
   "cell_type": "code",
   "execution_count": null,
   "metadata": {},
   "outputs": [],
   "source": [
    "model_clf.save_weights('./checkpoint')"
   ]
  },
  {
   "cell_type": "code",
   "execution_count": null,
   "metadata": {},
   "outputs": [],
   "source": [
    "model_clf.evaluate(X_test)"
   ]
  },
  {
   "cell_type": "markdown",
   "metadata": {},
   "source": [
    "## creating new model for deployement"
   ]
  },
  {
   "cell_type": "code",
   "execution_count": null,
   "metadata": {},
   "outputs": [],
   "source": [
    "LAYERS = [tf.keras.layers.Flatten(input_shape=[28,28], name=\"inputlayer\"),\n",
    "          tf.keras.layers.Dense(300, activation='relu', name=\"hiddenlayer1\"),\n",
    "          tf.keras.layers.Dense(100, activation='relu', name=\"hiddenlayer2\"),\n",
    "          tf.keras.layers.Dense(10, activation='softmax', name=\"outputlayer\")]"
   ]
  },
  {
   "cell_type": "code",
   "execution_count": null,
   "metadata": {},
   "outputs": [],
   "source": [
    "model = tf.keras.models.Sequential(LAYERS)"
   ]
  },
  {
   "cell_type": "code",
   "execution_count": null,
   "metadata": {},
   "outputs": [],
   "source": [
    "model.load_weights('./checkpoint')"
   ]
  },
  {
   "cell_type": "code",
   "execution_count": null,
   "metadata": {},
   "outputs": [],
   "source": [
    "model_clf.evaluate(X_test, y_test)"
   ]
  },
  {
   "cell_type": "code",
   "execution_count": null,
   "metadata": {},
   "outputs": [],
   "source": [
    "model.summary()"
   ]
  },
  {
   "cell_type": "code",
   "execution_count": null,
   "metadata": {},
   "outputs": [],
   "source": [
    "model_n.load_weights(\"./checkpoint\")"
   ]
  },
  {
   "cell_type": "code",
   "execution_count": null,
   "metadata": {},
   "outputs": [],
   "source": [
    "model_n.predict(X_test[0].reshape(-1,28,28))"
   ]
  },
  {
   "cell_type": "code",
   "execution_count": null,
   "metadata": {},
   "outputs": [],
   "source": [
    "import gradio as gr\n",
    "\n",
    "def predict_digit(image):\n",
    "    try:\n",
    "        if image == None: pass\n",
    "    except:\n",
    "        predictions = model_clf.predict(image.reshape(1, 28, 28))\n",
    "        return np.argmax(predictions)\n",
    "\n",
    "iface = gr.Interface(\n",
    "    title=\"MNIST Digit Classifier\",\n",
    "    fn=predict_digit, \n",
    "    inputs=gr.Sketchpad(input_shape=(28, 28), label=\"Draw a digit\"),\n",
    "    outputs=\"number\",\n",
    "    live=True\n",
    ")\n",
    "\n",
    "iface.launch()\n"
   ]
  }
 ],
 "metadata": {
  "accelerator": "GPU",
  "colab": {
   "provenance": []
  },
  "gpuClass": "standard",
  "kernelspec": {
   "display_name": "Python 3.9 (tf_gpu)",
   "language": "python",
   "name": "tf_gpu"
  },
  "language_info": {
   "codemirror_mode": {
    "name": "ipython",
    "version": 3
   },
   "file_extension": ".py",
   "mimetype": "text/x-python",
   "name": "python",
   "nbconvert_exporter": "python",
   "pygments_lexer": "ipython3",
   "version": "3.9.16"
  }
 },
 "nbformat": 4,
 "nbformat_minor": 1
}
